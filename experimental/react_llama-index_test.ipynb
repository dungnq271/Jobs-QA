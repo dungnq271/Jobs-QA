{
 "cells": [
  {
   "cell_type": "code",
   "execution_count": 1,
   "metadata": {},
   "outputs": [
    {
     "name": "stderr",
     "output_type": "stream",
     "text": [
      "/home/dungmaster/miniconda3/envs/llm/lib/python3.11/site-packages/pinecone/data/index.py:1: TqdmWarning: IProgress not found. Please update jupyter and ipywidgets. See https://ipywidgets.readthedocs.io/en/stable/user_install.html\n",
      "  from tqdm.autonotebook import tqdm\n"
     ]
    }
   ],
   "source": [
    "import sys\n",
    "sys.path.append(\"../agent_api.py\")\n",
    "\n",
    "from agent_api import *"
   ]
  },
  {
   "cell_type": "code",
   "execution_count": 2,
   "metadata": {},
   "outputs": [],
   "source": [
    "agents = Agent(\n",
    "    mode=mode,\n",
    "    collection_name=table_name,\n",
    "    node_parser=MarkdownElementNodeParser(\n",
    "        llm=llm,\n",
    "        num_workers=4,\n",
    "    ),\n",
    "    reranker=SimilarityPostprocessor(similarity_cutoff=0.5),\n",
    ")"
   ]
  },
  {
   "cell_type": "code",
   "execution_count": 3,
   "metadata": {},
   "outputs": [],
   "source": [
    "agent = Agent(\n",
    "    mode=mode,\n",
    "    collection_name=table_name,\n",
    "    node_parser=MarkdownElementNodeParser(\n",
    "        llm=llm,\n",
    "        num_workers=4,\n",
    "    ),\n",
    "    reranker=SimilarityPostprocessor(similarity_cutoff=0.5),\n",
    ")"
   ]
  },
  {
   "cell_type": "code",
   "execution_count": 4,
   "metadata": {},
   "outputs": [
    {
     "name": "stdout",
     "output_type": "stream",
     "text": [
      "Time: 92.355s\n",
      "Time: 0.195s\n",
      "Started parsing the file under job_id db787475-140d-4ed8-8373-5274739f5559\n",
      "Time: 32.960s\n"
     ]
    }
   ],
   "source": [
    "filepaths = [\"../documents/all_teams.csv\", \"../documents/allPlayersLookup.csv\", \"../documents/uber_10q_march_2022.pdf\"]\n",
    "for path in filepaths:\n",
    "    agent.parse_file(path)"
   ]
  },
  {
   "cell_type": "code",
   "execution_count": 6,
   "metadata": {},
   "outputs": [
    {
     "name": "stdout",
     "output_type": "stream",
     "text": [
      "\u001b[1;3;38;5;200mThought: I need to use a tool to help me answer the question.\n",
      "Action: sql_all_teams\n",
      "Action Input: {'input': 'team with the most points'}\n",
      "\u001b[0m\u001b[1;3;34mObservation: The team with the most points is PIT with a total of 8614 goals.\n",
      "\u001b[0m\u001b[1;3;38;5;200mThought: I can answer without using any more tools.\n",
      "Answer: The team with the most points is the Pittsburgh Penguins (PIT) with a total of 8614 goals.\n",
      "\u001b[0mTime: 65.464s\n"
     ]
    },
    {
     "data": {
      "text/plain": [
       "'The team with the most points is the Pittsburgh Penguins (PIT) with a total of 8614 goals.'"
      ]
     },
     "execution_count": 6,
     "metadata": {},
     "output_type": "execute_result"
    }
   ],
   "source": [
    "agent.chat(\"Which team has the most points?\")"
   ]
  },
  {
   "cell_type": "code",
   "execution_count": 7,
   "metadata": {},
   "outputs": [
    {
     "name": "stdout",
     "output_type": "stream",
     "text": [
      "\u001b[1;3;38;5;200mThought: I need to use a tool to extract information about Uber's net loss value compared to last year.\n",
      "Action: query_uber_10q_march_2022\n",
      "Action Input: {'input': 'net loss value compared to last year'}\n",
      "\u001b[0m\u001b[1;3;34mObservation: The net loss value for the current period is significantly higher compared to the net loss value for the same period last year.\n",
      "\u001b[0m\u001b[1;3;38;5;200mThought: I can answer the question without using any more tools.\n",
      "Answer: The net loss value attributable to Uber for the current period is significantly higher compared to the net loss value for the same period last year.\n",
      "\u001b[0mTime: 69.428s\n"
     ]
    },
    {
     "data": {
      "text/plain": [
       "'The net loss value attributable to Uber for the current period is significantly higher compared to the net loss value for the same period last year.'"
      ]
     },
     "execution_count": 7,
     "metadata": {},
     "output_type": "execute_result"
    }
   ],
   "source": [
    "agent.chat(\"what is the net loss value attributable to Uber compared to last year?\")"
   ]
  },
  {
   "cell_type": "code",
   "execution_count": 8,
   "metadata": {},
   "outputs": [
    {
     "name": "stdout",
     "output_type": "stream",
     "text": [
      "\u001b[1;3;38;5;200mThought: I need to use a tool to help me answer the question.\n",
      "Action: sql_allPlayersLookup\n",
      "Action Input: {'input': 'Oldest player'}\n",
      "\u001b[0m\u001b[1;3;34mObservation: The oldest player in the database is Adam Cracknell.\n",
      "\u001b[0m\u001b[1;3;38;5;200mThought: I can answer without using any more tools.\n",
      "Answer: The oldest player in the database is Adam Cracknell.\n",
      "\u001b[0mTime: 66.378s\n"
     ]
    },
    {
     "data": {
      "text/plain": [
       "'The oldest player in the database is Adam Cracknell.'"
      ]
     },
     "execution_count": 8,
     "metadata": {},
     "output_type": "execute_result"
    }
   ],
   "source": [
    "agent.chat(\"Who is the oldest player?\")"
   ]
  }
 ],
 "metadata": {
  "language_info": {
   "codemirror_mode": {
    "name": "ipython",
    "version": 3
   },
   "file_extension": ".py",
   "mimetype": "text/x-python",
   "name": "python",
   "nbconvert_exporter": "python",
   "pygments_lexer": "ipython3",
   "version": 3
  }
 },
 "nbformat": 4,
 "nbformat_minor": 2
}
